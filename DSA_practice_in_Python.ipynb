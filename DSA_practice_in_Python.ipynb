{
  "nbformat": 4,
  "nbformat_minor": 0,
  "metadata": {
    "colab": {
      "provenance": []
    },
    "kernelspec": {
      "name": "python3",
      "display_name": "Python 3"
    },
    "language_info": {
      "name": "python"
    }
  },
  "cells": [
    {
      "cell_type": "code",
      "execution_count": null,
      "metadata": {
        "id": "gW5hCx17HKoo"
      },
      "outputs": [],
      "source": []
    },
    {
      "cell_type": "markdown",
      "source": [
        "# 1: WAP to check if a string is a ** **palindrome**"
      ],
      "metadata": {
        "id": "kf7EAJYiHbPh"
      }
    },
    {
      "cell_type": "code",
      "source": [
        "def is_palindrome(str):\n",
        "  reversed_str=str[::-1]\n",
        "  return str == reversed_str\n",
        "s='madam'\n",
        "if is_palindrome(s):\n",
        "    print(f\"{s} is a palindrome\")\n",
        "else:\n",
        "    print(f\"{s} is not palindrome\")"
      ],
      "metadata": {
        "colab": {
          "base_uri": "https://localhost:8080/"
        },
        "id": "cxyjyIiaHe-T",
        "outputId": "da3f5bd2-4b3c-4a05-a106-7ae373d0c1b4"
      },
      "execution_count": null,
      "outputs": [
        {
          "output_type": "stream",
          "name": "stdout",
          "text": [
            "madam is a palindrome\n"
          ]
        }
      ]
    },
    {
      "cell_type": "markdown",
      "source": [
        "**WAP to find the factorial of a numbe**"
      ],
      "metadata": {
        "id": "tO4G5xelJyWH"
      }
    },
    {
      "cell_type": "code",
      "source": [
        "def factorial(n):\n",
        "  if n==0:\n",
        "    return 1\n",
        "  else:\n",
        "    return n *factorial(n-1)\n",
        "n1=8\n",
        "result=factorial(n1)\n",
        "print(result)\n",
        "n2=5\n",
        "result=factorial(n2)\n",
        "print(result)"
      ],
      "metadata": {
        "colab": {
          "base_uri": "https://localhost:8080/"
        },
        "id": "A38CMppRI9ad",
        "outputId": "7bac2c95-8bb6-4031-e77d-0dec33aacd5e"
      },
      "execution_count": null,
      "outputs": [
        {
          "output_type": "stream",
          "name": "stdout",
          "text": [
            "40320\n",
            "120\n"
          ]
        }
      ]
    },
    {
      "cell_type": "markdown",
      "source": [
        "3: WAP to find the largest element in a list\n"
      ],
      "metadata": {
        "id": "DRl5ohs8KrxH"
      }
    },
    {
      "cell_type": "code",
      "source": [
        "def find_large(numbers):\n",
        "  largest=numbers[0]\n",
        "  for num in numbers:\n",
        "    if num > largest:\n",
        "      largest=num\n",
        "  return largest\n",
        "nums=[10,20,45,89,66,33,55,22,33,44]\n",
        "largest_num= find_large(nums)\n",
        "print(f\"the largest number is {largest_num}\")"
      ],
      "metadata": {
        "colab": {
          "base_uri": "https://localhost:8080/"
        },
        "id": "Q0SDjfbjKq47",
        "outputId": "ece9a7c6-6c0f-4447-e3e3-86b84a40873f"
      },
      "execution_count": null,
      "outputs": [
        {
          "output_type": "stream",
          "name": "stdout",
          "text": [
            "the largest number is 89\n"
          ]
        }
      ]
    },
    {
      "cell_type": "markdown",
      "source": [
        ": 4.WAP to find the minimum  element in a list"
      ],
      "metadata": {
        "id": "b_P4CCQJNJUS"
      }
    },
    {
      "cell_type": "code",
      "source": [
        "def find_min(numbers):\n",
        "  minimum=numbers[0]\n",
        "  for num in numbers:\n",
        "    if num< minimum:\n",
        "      minimum=num\n",
        "  return minimum\n",
        "nums=[12,34,56,76,8,9,1,2,3,4]\n",
        "minimum_num=find_min(nums)\n",
        "print(minimum_num)"
      ],
      "metadata": {
        "colab": {
          "base_uri": "https://localhost:8080/"
        },
        "id": "rQEoMc23MAYX",
        "outputId": "fe04b55d-e613-4583-f62e-9c4d6a390a2f"
      },
      "execution_count": null,
      "outputs": [
        {
          "output_type": "stream",
          "name": "stdout",
          "text": [
            "1\n"
          ]
        }
      ]
    },
    {
      "cell_type": "markdown",
      "source": [
        "5: WAP to reverse a string."
      ],
      "metadata": {
        "id": "H7uuc8D9NM46"
      }
    },
    {
      "cell_type": "code",
      "source": [
        "def rev_string(string):\n",
        "  return string[::-1]\n",
        "text= 'ayvid atpug'\n",
        "rev_str=rev_string(text)\n",
        "print(rev_str)\n"
      ],
      "metadata": {
        "colab": {
          "base_uri": "https://localhost:8080/"
        },
        "id": "f8vT16FmNMfC",
        "outputId": "e98c5cae-fe2a-43cc-8a18-ca0ec1371207"
      },
      "execution_count": null,
      "outputs": [
        {
          "output_type": "stream",
          "name": "stdout",
          "text": [
            "gupta divya\n"
          ]
        }
      ]
    },
    {
      "cell_type": "markdown",
      "source": [
        "6: WAP to count the frequency of each element in a list.\n"
      ],
      "metadata": {
        "id": "I_qiaMEXO6FT"
      }
    },
    {
      "cell_type": "code",
      "source": [
        "def count_freq(numbers):\n",
        "  freq={}\n",
        "  for num in numbers:\n",
        "    if num in freq:\n",
        "      freq[num]+=1\n",
        "    else:\n",
        "      freq[num]=1\n",
        "  return freq\n",
        "nums=[0,0,0,0,7,6,5,4,4,5,6,7,8,2,3,45,6,76,5,4,4]\n",
        "freq_count=count_freq(nums)\n",
        "print(freq_count)\n",
        "type(freq_count)"
      ],
      "metadata": {
        "colab": {
          "base_uri": "https://localhost:8080/"
        },
        "id": "cxAQ0viPOwWn",
        "outputId": "32e51209-83d2-4cc5-835a-9bf714579926"
      },
      "execution_count": null,
      "outputs": [
        {
          "output_type": "stream",
          "name": "stdout",
          "text": [
            "{0: 4, 7: 2, 6: 3, 5: 3, 4: 4, 8: 1, 2: 1, 3: 1, 45: 1, 76: 1}\n"
          ]
        },
        {
          "output_type": "execute_result",
          "data": {
            "text/plain": [
              "dict"
            ]
          },
          "metadata": {},
          "execution_count": 43
        }
      ]
    },
    {
      "cell_type": "markdown",
      "source": [
        "7: WAP to check if a number is prime."
      ],
      "metadata": {
        "id": "Pa6n-CxRQHOm"
      }
    },
    {
      "cell_type": "code",
      "source": [
        "def is_prime(number):\n",
        "    if number<2:\n",
        "        return False\n",
        "    for i in range(2,int(number**0.5)+1):\n",
        "        if number%i==0:\n",
        "           return False\n",
        "    return True"
      ],
      "metadata": {
        "id": "RksJLulsQGkk"
      },
      "execution_count": null,
      "outputs": []
    },
    {
      "cell_type": "code",
      "source": [
        "num=12\n",
        "if is_prime(num):\n",
        "   print(f'{num} is prime')\n",
        "else:\n",
        "  print(f'{num} is not prime number')"
      ],
      "metadata": {
        "colab": {
          "base_uri": "https://localhost:8080/"
        },
        "id": "W8tKbNcYQ5WO",
        "outputId": "ad2b1d0d-8e5c-4cd5-a74a-4eb61692724b"
      },
      "execution_count": null,
      "outputs": [
        {
          "output_type": "stream",
          "name": "stdout",
          "text": [
            "12 is not prime number\n"
          ]
        }
      ]
    },
    {
      "cell_type": "markdown",
      "source": [
        "8:WAP to find the common elements between two lists."
      ],
      "metadata": {
        "id": "sBVnvajUTBBk"
      }
    },
    {
      "cell_type": "code",
      "source": [
        "def find_com_element(list1,list2):\n",
        "  com_element=[]\n",
        "  for item in list1:\n",
        "    if item in list2:\n",
        "      com_element.append(item)\n",
        "  return com_element"
      ],
      "metadata": {
        "id": "zXJ4uuUHSjuU"
      },
      "execution_count": null,
      "outputs": []
    },
    {
      "cell_type": "code",
      "source": [
        "list1=[1,2,3,4,5]\n",
        "list2=[3,4,5,6,7,8]\n",
        "common=find_com_element(list1,list2)\n",
        "print(common)"
      ],
      "metadata": {
        "colab": {
          "base_uri": "https://localhost:8080/"
        },
        "id": "3HfZL9z2TeTG",
        "outputId": "730c1ea7-431a-4fbb-fa5f-21874182abec"
      },
      "execution_count": null,
      "outputs": [
        {
          "output_type": "stream",
          "name": "stdout",
          "text": [
            "[3, 4, 5]\n"
          ]
        }
      ]
    },
    {
      "cell_type": "markdown",
      "source": [
        "9: WAP to sort a list of elements using the bubble sort algorithm"
      ],
      "metadata": {
        "id": "Vz2gGDl9UsAV"
      }
    },
    {
      "cell_type": "code",
      "source": [
        "def bubble_sort(elements):\n",
        "     n = len(elements)\n",
        "     for i in range(n - 1):\n",
        "         for j in range(n - i -1):\n",
        "             if elements[j]>elements[j+1]:\n",
        "                 elements[j],elements[j+1]=elements[j+1]"
      ],
      "metadata": {
        "id": "Dgn0Qx7uUs-S"
      },
      "execution_count": null,
      "outputs": []
    },
    {
      "cell_type": "code",
      "source": [
        "nums=[5,2,8,1,9]\n",
        "bubble_sort(nums)\n",
        "print(nums)"
      ],
      "metadata": {
        "id": "dB6-rBA-WQRL"
      },
      "execution_count": null,
      "outputs": []
    },
    {
      "cell_type": "markdown",
      "source": [
        "10:WAP to remove duplicates from a list.\n",
        "\n"
      ],
      "metadata": {
        "id": "YdM0Cc-yXVKw"
      }
    },
    {
      "cell_type": "code",
      "source": [
        "def remove_duplicates(nums):\n",
        "  unique_numbers=[]\n",
        "  for num in nums:\n",
        "    if num not in unique_numbers:\n",
        "       unique_numbers.append(num)\n",
        "  return unique_numbers"
      ],
      "metadata": {
        "id": "0vjHpx87XU8D"
      },
      "execution_count": null,
      "outputs": []
    },
    {
      "cell_type": "code",
      "source": [
        "nums=[1,2,3,4,1,2,3,4,5,6,7,8,1,2,3]\n",
        "unique_nums=remove_duplicates(nums)\n",
        "print(unique_nums)"
      ],
      "metadata": {
        "colab": {
          "base_uri": "https://localhost:8080/"
        },
        "id": "PU8JsoOvX-Ba",
        "outputId": "5b88839c-4fd4-40d6-8c9b-53e604cd52f9"
      },
      "execution_count": null,
      "outputs": [
        {
          "output_type": "stream",
          "name": "stdout",
          "text": [
            "[1, 2, 3, 4, 5, 6, 7, 8]\n"
          ]
        }
      ]
    },
    {
      "cell_type": "markdown",
      "source": [
        "11. WAP to print prime number between 100 to 1000\n"
      ],
      "metadata": {
        "id": "gzrKmnziAR1n"
      }
    },
    {
      "cell_type": "code",
      "source": [
        "for num in range (100,1000):\n",
        "  if all(num%i !=0 for i  in range (2,num)):\n",
        "    print(num)"
      ],
      "metadata": {
        "id": "WPyU8KedAQrY"
      },
      "execution_count": null,
      "outputs": []
    },
    {
      "cell_type": "markdown",
      "source": [
        "12. WAP sort function to sort element in a list\n"
      ],
      "metadata": {
        "id": "y17CFhIuCj2V"
      }
    },
    {
      "cell_type": "code",
      "source": [
        "list=[1,5,3,2,4]\n",
        "list.sort(reverse=True)\n",
        "print(list)"
      ],
      "metadata": {
        "colab": {
          "base_uri": "https://localhost:8080/"
        },
        "id": "4vKciZCGCon_",
        "outputId": "8e9877b2-20ce-4eae-88c2-a4dd24dda646"
      },
      "execution_count": null,
      "outputs": [
        {
          "output_type": "stream",
          "name": "stdout",
          "text": [
            "[5, 4, 3, 2, 1]\n"
          ]
        }
      ]
    },
    {
      "cell_type": "markdown",
      "source": [
        "13.Write sorting function without using list.sort\n"
      ],
      "metadata": {
        "id": "nDFEbloKEC0S"
      }
    },
    {
      "cell_type": "code",
      "source": [
        "def selection_sort_descending(arr):\n",
        "  n=len(arr)\n",
        "  for i in range(n):\n",
        "    max_index=i\n",
        "    for j in range(i+1,n):\n",
        "      if arr[j]>arr[max_index]:\n",
        "        max_index=j\n",
        "    arr[i],arr[max_index]=arr[max_index],arr[i]\n",
        "  return arr\n",
        "my_list = [3, 1, 4, 1, 5, 9, 2, 6, 5, 3, 5]\n",
        "sorted_list = selection_sort_descending(my_list)\n",
        "print(sorted_list)"
      ],
      "metadata": {
        "id": "0zuiI_uQEOY-",
        "colab": {
          "base_uri": "https://localhost:8080/"
        },
        "outputId": "a7ed7166-dc1c-4078-b7ad-336a4c74265c"
      },
      "execution_count": null,
      "outputs": [
        {
          "output_type": "stream",
          "name": "stdout",
          "text": [
            "[9, 6, 5, 5, 5, 4, 3, 3, 2, 1, 1]\n"
          ]
        }
      ]
    },
    {
      "cell_type": "markdown",
      "source": [
        "14. WAP to print Fibonacci series\n"
      ],
      "metadata": {
        "id": "GeJVE37ueVJZ"
      }
    },
    {
      "cell_type": "code",
      "source": [
        "def F(n):\n",
        "  if n==0:return 0\n",
        "  elif n==1: return 1\n",
        "  else: return F(n-1)+F(n-2)\n",
        "for i in range(0,10):\n",
        "  print(F(i))"
      ],
      "metadata": {
        "colab": {
          "base_uri": "https://localhost:8080/"
        },
        "id": "tYKlkhIqeUrV",
        "outputId": "b803a2a0-c767-4f76-c82b-626be9dcf88a"
      },
      "execution_count": null,
      "outputs": [
        {
          "output_type": "stream",
          "name": "stdout",
          "text": [
            "0\n",
            "1\n",
            "1\n",
            "2\n",
            "3\n",
            "5\n",
            "8\n",
            "13\n",
            "21\n",
            "34\n"
          ]
        }
      ]
    },
    {
      "cell_type": "markdown",
      "source": [
        "15. WAP to print a list in reverse\n"
      ],
      "metadata": {
        "id": "36zffApQfcRK"
      }
    },
    {
      "cell_type": "code",
      "source": [
        "list=[1,2,3,4,5]\n",
        "rev_list=list[::-1]\n",
        "print(rev_list)"
      ],
      "metadata": {
        "colab": {
          "base_uri": "https://localhost:8080/"
        },
        "id": "QbUV0GAdfsOf",
        "outputId": "270b304d-77da-498a-c72b-c9cd8598513d"
      },
      "execution_count": null,
      "outputs": [
        {
          "output_type": "stream",
          "name": "stdout",
          "text": [
            "[5, 4, 3, 2, 1]\n"
          ]
        }
      ]
    },
    {
      "cell_type": "code",
      "source": [
        "from posixpath import lexists\n",
        "list=[2,3,4,56,7,23,43,56,77]\n",
        "def rev(l):\n",
        "  return l[::-1]\n",
        "rev(list)\n",
        "\n"
      ],
      "metadata": {
        "colab": {
          "base_uri": "https://localhost:8080/"
        },
        "id": "wMAskfmVfIy5",
        "outputId": "c4321ba7-aaa6-4f4a-9d22-2d296edfded9"
      },
      "execution_count": null,
      "outputs": [
        {
          "output_type": "execute_result",
          "data": {
            "text/plain": [
              "[77, 56, 43, 23, 7, 56, 4, 3, 2]"
            ]
          },
          "metadata": {},
          "execution_count": 2
        }
      ]
    }
  ]
}